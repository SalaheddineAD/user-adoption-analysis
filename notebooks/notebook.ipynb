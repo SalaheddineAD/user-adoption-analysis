{
 "cells": [
  {
   "cell_type": "markdown",
   "metadata": {},
   "source": [
    "### Data Ingestion"
   ]
  },
  {
   "cell_type": "code",
   "execution_count": 1,
   "metadata": {},
   "outputs": [],
   "source": [
    "import pandas as pd\n",
    "from pandas import DataFrame, Series"
   ]
  },
  {
   "cell_type": "code",
   "execution_count": 103,
   "metadata": {},
   "outputs": [],
   "source": [
    "users = pd.read_csv(\"https://s3.amazonaws.com/asana-data-interview/takehome_users-intern.csv\")\n",
    "user_engagement = pd.read_csv(\"https://s3.amazonaws.com/asana-data-interview/takehome_user_engagement-intern.csv\")"
   ]
  },
  {
   "cell_type": "markdown",
   "metadata": {},
   "source": [
    "### 1) Calculating Adoption Rate"
   ]
  },
  {
   "cell_type": "code",
   "execution_count": 104,
   "metadata": {},
   "outputs": [],
   "source": [
    "# sort user_engagemenet and drop rows with similar user_id and date\n",
    "user_engagement = user_engagement.sort_values(by=['user_id', 'time_stamp'])\n",
    "user_engagement['time_stamp'] = pd.to_datetime(user_engagement['time_stamp'])\n",
    "user_engagement['date'] = user_engagement['time_stamp'].dt.date\n",
    "user_engagement = user_engagement[[\"date\",\"user_id\"]].drop_duplicates()"
   ]
  },
  {
   "cell_type": "code",
   "execution_count": 105,
   "metadata": {},
   "outputs": [],
   "source": [
    "def is_adopted_user(df, period=7, freq=3):\n",
    "\t\"\"\"\n",
    "\tINPUT\n",
    "\tdf: dataframe of user activity\n",
    "\tperiod: time period we want to look at, default 7\n",
    "\tfreq: is the number of days of the period we want the user to have logged in, default 3\n",
    "\n",
    "\tOUTPUT\n",
    "\tadopted_user: returns whether or not the user had 3 consecutive logins within a 7 day period\n",
    "\t\"\"\"\n",
    "\tadopted_user = False\n",
    "\tif len(df) < freq:\n",
    "\t\treturn adopted_user\n",
    "\telse:\n",
    "\t\tfor i in range(len(df)-freq+1):\n",
    "\t\t\tif (df['date'].iloc[i+freq-1] - df['date'].iloc[i]) < pd.Timedelta(days=period):\n",
    "\t\t\t\tadopted_user = True\n",
    "\t\t\t\treturn adopted_user\n",
    "\treturn adopted_user"
   ]
  },
  {
   "cell_type": "code",
   "execution_count": 106,
   "metadata": {},
   "outputs": [],
   "source": [
    "# find adopted users\n",
    "grouped_users = user_engagement.groupby('user_id')\n",
    "adoted_users = pd.DataFrame(grouped_users.filter(lambda x : is_adopted_user(df=x, period=7, freq=3) ==True)[\"user_id\"].drop_duplicates())\n",
    "adoted_users['adopted_user'] = 1\n",
    "\n",
    "# add column adopted_user to users\n",
    "users = pd.merge(adoted_users, users, how='outer', left_on='user_id', right_on='object_id')\n",
    "users['adopted_user'] = users['adopted_user'].fillna(0)"
   ]
  },
  {
   "cell_type": "code",
   "execution_count": 107,
   "metadata": {},
   "outputs": [
    {
     "data": {
      "text/plain": [
       "0.1335"
      ]
     },
     "execution_count": 107,
     "metadata": {},
     "output_type": "execute_result"
    }
   ],
   "source": [
    "users['adopted_user'].agg('mean')"
   ]
  },
  {
   "cell_type": "markdown",
   "metadata": {},
   "source": [
    "The adoption rate is 13.35%"
   ]
  },
  {
   "cell_type": "code",
   "execution_count": 9,
   "metadata": {},
   "outputs": [
    {
     "name": "stdout",
     "output_type": "stream",
     "text": [
      "1615\n",
      "0.13458333333333333\n"
     ]
    }
   ],
   "source": [
    "from sklearn.ensemble import RandomForestClassifier\n",
    "from sklearn.model_selection import train_test_split\n",
    "num_adopted_users = len(adopted_user_info[adopted_user_info['adopted_user'] == 1])\n",
    "print(num_adopted_users)\n",
    "total_users = len(adopted_user_info)\n",
    "adoption_rate = num_adopted_users / total_users\n",
    "\n",
    "# define features and target variable\n",
    "X = adopted_user_info[['creation_source', 'opted_in_to_mailing_list', 'enabled_for_marketing_drip', 'org_id', 'invited_by_user_id']]\n",
    "y = adopted_user_info['adopted_user']\n",
    "\n",
    "# split data into training and testing sets\n",
    "X_train, X_test, y_train, y_test = train_test_split(X, y, test_size=0.2, random_state=42)\n",
    "\n",
    "# train random forest classifier\n",
    "rf = RandomForestClassifier(n_estimators=100, random_state=42)\n",
    "rf.fit(X_train, y_train)\n",
    "\n",
    "# get feature importances\n",
    "importances = rf.feature_importances_\n",
    "\n",
    "# print feature importances\n",
    "for feature, importance in zip(X.columns, importances):\n",
    "    print(f\"{feature}: {importance}\")\n"
   ]
  },
  {
   "cell_type": "markdown",
   "metadata": {},
   "source": [
    "### 2) Methodology"
   ]
  },
  {
   "cell_type": "code",
   "execution_count": null,
   "metadata": {},
   "outputs": [],
   "source": []
  },
  {
   "cell_type": "code",
   "execution_count": null,
   "metadata": {},
   "outputs": [],
   "source": []
  },
  {
   "cell_type": "code",
   "execution_count": null,
   "metadata": {},
   "outputs": [],
   "source": []
  },
  {
   "cell_type": "code",
   "execution_count": null,
   "metadata": {},
   "outputs": [],
   "source": []
  },
  {
   "cell_type": "markdown",
   "metadata": {},
   "source": [
    "##### 2a) Writeup associated with methodology"
   ]
  },
  {
   "cell_type": "markdown",
   "metadata": {},
   "source": []
  },
  {
   "cell_type": "markdown",
   "metadata": {},
   "source": [
    "### 3) What Factors Predict User Adoption?"
   ]
  },
  {
   "cell_type": "code",
   "execution_count": null,
   "metadata": {},
   "outputs": [],
   "source": []
  },
  {
   "cell_type": "code",
   "execution_count": null,
   "metadata": {},
   "outputs": [],
   "source": []
  },
  {
   "cell_type": "code",
   "execution_count": null,
   "metadata": {},
   "outputs": [],
   "source": []
  },
  {
   "cell_type": "code",
   "execution_count": null,
   "metadata": {},
   "outputs": [],
   "source": []
  },
  {
   "cell_type": "code",
   "execution_count": null,
   "metadata": {},
   "outputs": [],
   "source": []
  },
  {
   "cell_type": "markdown",
   "metadata": {},
   "source": [
    "##### 3a) Writeup associated with what factors predict user adoption?"
   ]
  },
  {
   "cell_type": "markdown",
   "metadata": {},
   "source": []
  },
  {
   "cell_type": "markdown",
   "metadata": {},
   "source": [
    "### 4) Additional Commentary (Optional)"
   ]
  },
  {
   "cell_type": "markdown",
   "metadata": {},
   "source": []
  }
 ],
 "metadata": {
  "kernelspec": {
   "display_name": "Python 3",
   "language": "python",
   "name": "python3"
  },
  "language_info": {
   "codemirror_mode": {
    "name": "ipython",
    "version": 3
   },
   "file_extension": ".py",
   "mimetype": "text/x-python",
   "name": "python",
   "nbconvert_exporter": "python",
   "pygments_lexer": "ipython3",
   "version": "3.12.0"
  }
 },
 "nbformat": 4,
 "nbformat_minor": 2
}
